{
 "cells": [
  {
   "cell_type": "markdown",
   "metadata": {},
   "source": [
    "# 4. Data driven estimation of QCD background"
   ]
  },
  {
   "cell_type": "markdown",
   "metadata": {},
   "source": [
    "### 4.1 The ABCD method"
   ]
  },
  {
   "cell_type": "markdown",
   "metadata": {},
   "source": [
    "The QCD multijet background, where one or two jets are misidentified as a $\\tau_h$ candidate, is very challenging to model and estimate. In fact, the probability of a quark or gluon jet to be misidentified as a $\\tau_h$ candidate ($10^{-2}-10^{-3}$), together with the small probability of simultaneously having two jets passing b tag requirements ($10^{-2}$ for the \\textit{Medium} working point of the DeepFlavour DNN), would require the generation of a massive MC simulation sample to ensure the presence of a sufficient number of events in the SR. Moreover, the misidentification of quark and gluon jets as $\\tau_h$ is known to be imperfectly modeled by the MC simulation because entirely dependent on detector effects. These two limitations are overcome adopting a data-driven approach that estimates the multijet background contribution from jet-enriched regions orthogonal to the SR.\n",
    "    \n",
    "The data-driven estimation is performed with the so-called *ABCD method*. It consists of the use of the signal region (A) plus three sidebands (B, C, D). The shape of the QCD background is taken from the region C while the yield is extrapolated to region A using an extrapolation factor calculated in regions B and D.\n",
    "\n",
    "    \n",
    "Region A corresponds to the SR. Region B corresponds to a region in which the opposite lepton charge requirement has been inverted, while all the other selections are kept equal to the SR. Region C corresponds to a region in which the isolation requirement has been inverted, *i.e.* the candidates should not pass the *Medium* identification point, while all the other selections are kept equal to the SR. Region D corresponds to a region in which the opposite lepton charge requirement has been inverted and the isolation requirement has been lifted, while all the other selections are kept equal to the SR. A schematic representation of the regions' definition is reported below."
   ]
  },
  {
   "cell_type": "markdown",
   "metadata": {},
   "source": [
    "![ABCD_method](img/ABCD_method.png)\n",
    "\n",
    "Schematic representation of the regions used for the QCD background data-driven estimation. OS and SS stand for opposite and same sign charge of the lepton pair, respectively. Iso and anti-iso stand for application of the isolation requirements or non-application, respectively. Therefore, region A represents the SR. The QCD background shape is estimated from region C. The factor to extrapolate the yield from region C to region A is calculated as the ratio of the yield of region B over the one of region D"
   ]
  },
  {
   "cell_type": "markdown",
   "metadata": {},
   "source": [
    "In the B, C, and D region the number of QCD background events ($N_i$ where i = B, C, D) is estimated by subtracting to the total number of data events observed ($N_i^{data}$) the yields of the residual backgrounds, estimated using the MC simulation ($N_i^{bkg}$): $N_i = N_i^{data} - N_i^{bkg}$ and the QCD background yield in the SR ($N_A$) is estimated as:\n",
    "    \n",
    "   $$\n",
    "        N_A = N_C \\times \\frac{N_B}{N_D}\n",
    "   $$\n",
    "    \n",
    "This rescaling is designed under the assumption that the ratio of opposite-sign and same-sign events is expected to be the same whether the jet misidentified as $\\tau_h$ candidates pass the *Medium* $\\tau$ ID or not. The differential distribution of the QCD background is taken from region C.\n",
    "\n",
    "This data-driven method is validated using the A, B, C, and D regions where two jets fail the medium working point of the b tag discriminant. These regions have a negligible presence of signal and are largely contaminated from the QCD background"
   ]
  },
  {
   "cell_type": "markdown",
   "metadata": {},
   "source": [
    "### 4.2 ABCD regions definitions"
   ]
  },
  {
   "cell_type": "markdown",
   "metadata": {},
   "source": [
    "The definition of the ABCD regions ais based on the isolation of the $\\tau_h$ leptons.The `TBranches` containing this info are:\n",
    "* `isOS` $\\rightarrow$ relative charge (opposite, same) (bool 0/1)\n",
    "* `dau1_deepTauVsJet` $\\rightarrow$ isolation of 1st $\\tau$ (`VVVLoose=1`, `VVLoose=2`, `VLoose=3`, `Loose=4`, `Medium=5`)\n",
    "* `dau2_deepTauVsJet` $\\rightarrow$ isolation of 2nd $\\tau$ (`VVVLoose=1`, `VVLoose=2`, `VLoose=3`, `Loose=4`, `Medium=5`)"
   ]
  },
  {
   "cell_type": "markdown",
   "metadata": {},
   "source": [
    "The actual seletions are:\n",
    "\n",
    "`SR       = isOS != 0 && dau1_deepTauVsJet >= 5 && dau2_deepTauVsJet >= 5                           # A region`\n",
    "`SStight  = isOS == 0 && dau1_deepTauVsJet >= 5 && dau2_deepTauVsJet >= 5                           # B region`\n",
    "`OSinviso = isOS != 0 && dau1_deepTauVsJet >= 5 && dau2_deepTauVsJet >= 1 && dau2_deepTauVsJet < 5  # C region`\n",
    "`SSinviso = isOS == 0 && dau1_deepTauVsJet >= 5 && dau2_deepTauVsJet >= 1 && dau2_deepTauVsJet < 5  # D region`"
   ]
  },
  {
   "cell_type": "markdown",
   "metadata": {},
   "source": [
    "### 4.3 What you have to do"
   ]
  },
  {
   "cell_type": "markdown",
   "metadata": {},
   "source": [
    "Define the ABCD regions and use the ABCD method to etsimate the QCD bkg contribution."
   ]
  }
 ],
 "metadata": {
  "kernelspec": {
   "display_name": "Python 3",
   "language": "python",
   "name": "python3"
  },
  "language_info": {
   "codemirror_mode": {
    "name": "ipython",
    "version": 3
   },
   "file_extension": ".py",
   "mimetype": "text/x-python",
   "name": "python",
   "nbconvert_exporter": "python",
   "pygments_lexer": "ipython3",
   "version": "3.6.8"
  }
 },
 "nbformat": 4,
 "nbformat_minor": 2
}
